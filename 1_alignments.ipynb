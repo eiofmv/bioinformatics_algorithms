{
 "cells": [
  {
   "cell_type": "markdown",
   "metadata": {},
   "source": [
    "# Needleman–Wunsch"
   ]
  },
  {
   "cell_type": "code",
   "execution_count": 1,
   "metadata": {},
   "outputs": [],
   "source": [
    "import numpy as np\n",
    "\n",
    "def match_or_mismatch(x, mu, char_a, char_b):\n",
    "    return x + (char_a == char_b) - mu * (char_a != char_b)\n",
    "\n",
    "def gap(x, delta):\n",
    "    return x - delta\n",
    "\n",
    "def simple_alignments(s, t, delta, mu):\n",
    "    d = np.zeros((len(s) + 1, len(t) + 1))\n",
    "    d[0] = np.arange(len(t) + 1) * (-delta)\n",
    "    \n",
    "    for i in range(1, len(s) + 1):\n",
    "        d[i][0] = - delta * i\n",
    "        for j in range(1, len(t) + 1):\n",
    "            d[i][j] = max(\n",
    "                gap(d[i-1][j], delta),\n",
    "                gap(d[i][j-1], delta),\n",
    "                match_or_mismatch(d[i-1][j-1], mu, s[i-1], t[j-1])\n",
    "            )\n",
    "\n",
    "    s1 = ''\n",
    "    t1 = ''\n",
    "    i = len(s)\n",
    "    j = len(t)\n",
    "    while (i > 0)and(j > 0):\n",
    "        if abs(match_or_mismatch(d[i-1][j-1], mu, s[i-1], t[j-1]) \n",
    "               - d[i][j]) < 1e-10:\n",
    "            s1 += s[i-1]\n",
    "            t1 += t[j-1]\n",
    "            i -= 1\n",
    "            j -= 1\n",
    "        elif abs(gap(d[i][j-1], delta) \n",
    "                 - d[i][j]) < 1e-10:\n",
    "            s1 += '-'\n",
    "            t1 += t[j-1]\n",
    "            j -= 1\n",
    "        elif abs(gap(d[i-1][j], delta) \n",
    "                 - d[i][j]) < 1e-10:\n",
    "            s1 += s[i-1]\n",
    "            t1 += '-'\n",
    "            i -= 1\n",
    "\n",
    "    while (i > 0):\n",
    "        s1 += s[i-1]\n",
    "        t1 += '-'\n",
    "        i -= 1\n",
    "    while (j > 0):\n",
    "        s1 += '-'\n",
    "        t1 += t[j-1]\n",
    "        j -= 1\n",
    "        \n",
    "    return s1[::-1], t1[::-1]"
   ]
  },
  {
   "cell_type": "code",
   "execution_count": 2,
   "metadata": {},
   "outputs": [
    {
     "name": "stdout",
     "output_type": "stream",
     "text": [
      "AGTGGCATTA-CATGC--GCTA-\n",
      "CGT-AC-TCAGCAT-CTGGC-AC\n"
     ]
    }
   ],
   "source": [
    "# TEST1\n",
    "\n",
    "mu = 1\n",
    "delta = 1\n",
    "\n",
    "s = 'AGTGGCATTACATGCGCTA'\n",
    "t = 'CGTACTCAGCATCTGGCAC'\n",
    "    \n",
    "print('{}\\n{}'.format(*simple_alignments(s, t, delta, mu)))"
   ]
  },
  {
   "cell_type": "code",
   "execution_count": 3,
   "metadata": {},
   "outputs": [
    {
     "name": "stdout",
     "output_type": "stream",
     "text": [
      "A-GTGGCAT-T-A-CATGC--GCTA-\n",
      "-CGT---A-CTCAGCAT-CTGGC-AC\n"
     ]
    }
   ],
   "source": [
    "# TEST2\n",
    "\n",
    "mu = 1\n",
    "delta = .499\n",
    "    \n",
    "print('{}\\n{}'.format(*simple_alignments(s, t, delta, mu)))"
   ]
  },
  {
   "cell_type": "markdown",
   "metadata": {},
   "source": [
    "# With matrix"
   ]
  },
  {
   "cell_type": "code",
   "execution_count": 4,
   "metadata": {},
   "outputs": [],
   "source": [
    "def calculate_weight(x, y, weight_matrix):\n",
    "    letter_to_num = {'A': 0, 'C': 1, 'G': 2, 'T': 3, '-': 4}\n",
    "    row = letter_to_num[x]\n",
    "    column = letter_to_num[y]\n",
    "    if row > column:\n",
    "        row, column = column, row\n",
    "    return weight_matrix[row][column]\n",
    "\n",
    "def alignment(s, t, weight_matrix):\n",
    "    d = np.zeros((len(s) + 1, len(t) + 1))\n",
    "    d[0] = np.arange(len(t) + 1) * (-delta)\n",
    "    \n",
    "    for i in range(1, len(s) + 1):\n",
    "        d[i][0] = - delta * i\n",
    "        for j in range(1, len(t) + 1):\n",
    "            d[i][j] = max(\n",
    "                gap(d[i-1][j], calculate_weight(s[i-1], '-', weight_matrix)),\n",
    "                gap(d[i][j-1], calculate_weight(t[j-1], '-', weight_matrix)),\n",
    "                match_or_mismatch(d[i-1][j-1], \n",
    "                                  calculate_weight(s[i-1], t[j-1], weight_matrix),\n",
    "                                  s[i-1], t[j-1])\n",
    "            )\n",
    "\n",
    "    s1 = ''\n",
    "    t1 = ''\n",
    "    i = len(s)\n",
    "    j = len(t)\n",
    "    while (i > 0)and(j > 0):\n",
    "        if abs(match_or_mismatch(d[i-1][j-1], \n",
    "                                 calculate_weight(s[i-1], t[j-1], weight_matrix), \n",
    "                                 s[i-1], t[j-1]) \n",
    "               - d[i][j]) < 1e-10:\n",
    "            s1 += s[i-1]\n",
    "            t1 += t[j-1]\n",
    "            i -= 1\n",
    "            j -= 1\n",
    "        elif abs(gap(d[i][j-1], calculate_weight(t[j-1], '-', weight_matrix)) \n",
    "                 - d[i][j]) < 1e-10:\n",
    "            s1 += '-'\n",
    "            t1 += t[j-1]\n",
    "            j -= 1\n",
    "        elif abs(gap(d[i-1][j], calculate_weight(s[i-1], '-', weight_matrix)) \n",
    "                 - d[i][j]) < 1e-10:\n",
    "            s1 += s[i-1]\n",
    "            t1 += '-'\n",
    "            i -= 1\n",
    "\n",
    "    while (i > 0):\n",
    "        s1 += s[i-1]\n",
    "        t1 += '-'\n",
    "        i -= 1\n",
    "    while (j > 0):\n",
    "        s1 += '-'\n",
    "        t1 += t[j-1]\n",
    "        j -= 1\n",
    "        \n",
    "    return s1[::-1], t1[::-1]"
   ]
  },
  {
   "cell_type": "code",
   "execution_count": 5,
   "metadata": {},
   "outputs": [
    {
     "name": "stdout",
     "output_type": "stream",
     "text": [
      "1: ACACGC-TTCGAAGTC\n",
      "   CCGCTCATGC-ACGTA\n",
      "2: ACA-CGCT--TCG-AAGTC\n",
      "   ---CCGCTCAT-GCACGTA\n"
     ]
    }
   ],
   "source": [
    "np.random.seed(42)\n",
    "weight_matrix = np.random.randint(0, 5, 25).reshape((5, 5))\n",
    "\n",
    "s = 'ACACGCTTCGAAGTC'\n",
    "t = 'CCGCTCATGCACGTA'\n",
    "\n",
    "print('1: {}\\n   {}'.format(*alignment(s, t, weight_matrix)))\n",
    "\n",
    "weight_matrix[1][4] -= 2\n",
    "\n",
    "print('2: {}\\n   {}'.format(*alignment(s, t, weight_matrix)))"
   ]
  },
  {
   "cell_type": "markdown",
   "metadata": {},
   "source": [
    "# Smith–Waterman"
   ]
  },
  {
   "cell_type": "code",
   "execution_count": 6,
   "metadata": {},
   "outputs": [],
   "source": [
    "def local_alignments(s, t, delta, mu):\n",
    "    d = np.zeros((len(s) + 1, len(t) + 1))\n",
    "    d[0] = np.arange(len(t) + 1) * (-delta)\n",
    "    \n",
    "    max_element = -1\n",
    "    max_index = (-1, -1)\n",
    "    for i in range(1, len(s) + 1):\n",
    "        d[i][0] = - delta * i\n",
    "        for j in range(1, len(t) + 1):\n",
    "            d[i][j] = max(\n",
    "                0,\n",
    "                gap(d[i-1][j], delta),\n",
    "                gap(d[i][j-1], delta),\n",
    "                match_or_mismatch(d[i-1][j-1], mu, s[i-1], t[j-1])\n",
    "            )\n",
    "            if d[i][j] > max_element:\n",
    "                max_element = d[i][j]\n",
    "                max_index = (i, j)\n",
    "\n",
    "\n",
    "    i = max_index[0]\n",
    "    j = max_index[1]\n",
    "    s1 = '-' * max(len(t) - j - len(s) + i, 0) + s[:i-1:-1].lower()\n",
    "    t1 = '-' * max(len(s) - i - len(t) + j, 0) +t[:j-1:-1].lower()\n",
    "    while (i > 0)and(j > 0):\n",
    "        if abs(d[i][j]) < 1e-10:\n",
    "            break\n",
    "        elif abs(match_or_mismatch(d[i-1][j-1], mu, s[i-1], t[j-1]) \n",
    "                 - d[i][j]) < 1e-10:\n",
    "            s1 += s[i-1]\n",
    "            t1 += t[j-1]\n",
    "            i -= 1\n",
    "            j -= 1\n",
    "        elif abs(gap(d[i][j-1], delta) \n",
    "                 - d[i][j]) < 1e-10:\n",
    "            s1 += '-'\n",
    "            t1 += t[j-1]\n",
    "            j -= 1\n",
    "        elif abs(gap(d[i-1][j], delta) \n",
    "                 - d[i][j]) < 1e-10:\n",
    "            s1 += s[i-1]\n",
    "            t1 += '-'\n",
    "            i -= 1\n",
    "\n",
    "    while (i > 0)and(d[i][j] > 0):\n",
    "        s1 += s[i-1]\n",
    "        t1 += '-'\n",
    "        i -= 1\n",
    "    while (j > 0)and(d[i][j] > 0):\n",
    "        s1 += '-'\n",
    "        t1 += t[j-1]\n",
    "        j -= 1\n",
    "    s1 += s[i-1::-1].lower() + '-' * max(j - i, 0)\n",
    "    t1 += t[j-1::-1].lower() + '-' * max(i - j, 0)\n",
    "        \n",
    "    return s1[::-1], t1[::-1]"
   ]
  },
  {
   "cell_type": "code",
   "execution_count": 7,
   "metadata": {},
   "outputs": [
    {
     "name": "stdout",
     "output_type": "stream",
     "text": [
      "Global:\n",
      "---T-CC-CAGT--TATGTCAGGGGACACGAGCATG-CAGAGAC\n",
      "AATTGCCGCCGTCGT-TTTCA---G-CA-G-TTATGTCAGA-TC\n",
      "\n",
      "Local:\n",
      "------------------tccCAGTTATGTCAGgggacacgagcatgcagagac\n",
      "aattgccgccgtcgttttcagCAGTTATGTCAGatc------------------\n"
     ]
    }
   ],
   "source": [
    "# TEST\n",
    "\n",
    "mu = 1\n",
    "delta = 1\n",
    "\n",
    "s = 'TCCCAGTTATGTCAGGGGACACGAGCATGCAGAGAC'\n",
    "t = 'AATTGCCGCCGTCGTTTTCAGCAGTTATGTCAGATC'\n",
    "\n",
    "print('Global:\\n{}\\n{}'.format(*simple_alignments(s, t, delta, mu)))\n",
    "print('\\nLocal:\\n{}\\n{}'.format(*local_alignments(s, t, delta, mu)))"
   ]
  },
  {
   "cell_type": "markdown",
   "metadata": {},
   "source": [
    "# Global:\n",
    "---T-CC-<font color=\"red\">CAGT--TATGTCAG</font>GGGACACGAGCATG-CAGAGAC <br>\n",
    "AATTGCCGCCGTCGT-TTTCA---G-<font color=\"red\">CA-G-TTATGTCAG</font>A-TC\n",
    "## Local:\n",
    "-------------------------------TCC<font color=\"red\">CAGTTATGTCAG</font>GGGACACGAGCATGCAGAGAC<br>\n",
    "AATTGCCGCCGTCGTTTTCAG<font color=\"red\">CAGTTATGTCAG</font>ATC"
   ]
  },
  {
   "cell_type": "markdown",
   "metadata": {},
   "source": [
    "# Affine transformation"
   ]
  },
  {
   "cell_type": "code",
   "execution_count": 8,
   "metadata": {},
   "outputs": [],
   "source": [
    "def affine_alignments(s, t, delta, p, sigma):\n",
    "    lower_level = -np.ones((len(s) + 1, len(t) + 1)) * p\n",
    "    main_level = -np.ones((len(s) + 1, len(t) + 1)) * p\n",
    "    upper_level = -np.ones((len(s) + 1, len(t) + 1)) * p\n",
    "    \n",
    "    for level in [lower_level, main_level, upper_level]:\n",
    "        level[0] -= np.arange(len(t) + 1) * sigma\n",
    "        level[:, 0] -= np.arange(len(t) + 1) * sigma\n",
    "        level[0][0] = 0\n",
    "    \n",
    "    for i in range(1, len(s) + 1):\n",
    "        for j in range(1, len(t) + 1):\n",
    "            lower_level[i][j] = max(gap(main_level[i-1][j], p+sigma), \n",
    "                                    gap(lower_level[i-1][j], sigma))\n",
    "            \n",
    "            upper_level[i][j] = max(gap(main_level[i][j-1], p+sigma), \n",
    "                                    gap(upper_level[i][j-1], sigma))\n",
    "            \n",
    "            main_level[i][j] = max(match_or_mismatch(main_level[i-1][j-1], delta, s[i-1], t[j-1]), \n",
    "                                    upper_level[i][j], lower_level[i][j])\n",
    "\n",
    "    s1 = ''\n",
    "    t1 = ''\n",
    "    i = len(s)\n",
    "    j = len(t)\n",
    "    while (i > 0)and(j > 0):\n",
    "        if abs(match_or_mismatch(main_level[i-1][j-1], delta, s[i-1], t[j-1]) \n",
    "               - main_level[i][j]) < 1e-10:\n",
    "            s1 += s[i-1]\n",
    "            t1 += t[j-1]\n",
    "            i -= 1\n",
    "            j -= 1\n",
    "        elif (abs(gap(upper_level[i][j-1], sigma) - main_level[i][j]) < 1e-10) \\\n",
    "        or(abs(gap(main_level[i][j-1], p+sigma) - main_level[i][j]) < 1e-10):\n",
    "            s1 += '-'\n",
    "            t1 += t[j-1]\n",
    "            j -= 1\n",
    "        elif (abs(gap(lower_level[i-1][j], sigma) - main_level[i][j]) < 1e-10) \\\n",
    "        or(abs(gap(main_level[i-1][j], p+sigma) - main_level[i][j]) < 1e-10):\n",
    "            s1 += s[i-1]\n",
    "            t1 += '-'\n",
    "            i -= 1\n",
    "\n",
    "    while (i > 0):\n",
    "        s1 += s[i-1]\n",
    "        t1 += '-'\n",
    "        i -= 1\n",
    "    while (j > 0):\n",
    "        s1 += '-'\n",
    "        t1 += t[j-1]\n",
    "        j -= 1\n",
    "        \n",
    "    return s1[::-1], t1[::-1]"
   ]
  },
  {
   "cell_type": "code",
   "execution_count": 14,
   "metadata": {},
   "outputs": [
    {
     "name": "stdout",
     "output_type": "stream",
     "text": [
      "0: Needleman–Wunsch\n",
      "   ---T-CC-CAGT--TATGTCAGGGGACACGAGCATG-CAGAGAC\n",
      "   AATTGCCGCCGTCGT-TTTCA---G-CA-G-TTATGTCAGA-TC\n",
      "\n",
      "1: ---T-CC-CAGT--TATGTCAGGGGACACGAGCATG-CAGAGAC\n",
      "   AATTGCCGCCGTCGT-TTTCA---G-CA-G-TTATGTCAGA-TC\n",
      "2: TCCCAGTTATGTCAGGGGACACGAGCATGCAGAGAC\n",
      "   AATTGCCGCCGTCGTTTTCAGCAGTTATGTCAGATC\n",
      "3: --T--CC-CA-GT--TATG-TCAGGGGACACGAGC--ATG-CAGAGA-C\n",
      "   AATTGCCGC-CGTCGT-T-TTCA---G---C-AG-TTATGTC--AGATC\n"
     ]
    }
   ],
   "source": [
    "# TEST\n",
    "\n",
    "s = 'TCCCAGTTATGTCAGGGGACACGAGCATGCAGAGAC'\n",
    "t = 'AATTGCCGCCGTCGTTTTCAGCAGTTATGTCAGATC'\n",
    "\n",
    "delta, p, sigma = 1, 0, 1 #  Needleman–Wunsch\n",
    "print('1: {}\\n   {}'.format(*affine_alignments(s, t, delta, p, sigma)))\n",
    "\n",
    "delta, p, sigma = 1, 100, .01 #  No gaps\n",
    "print('2: {}\\n   {}'.format(*affine_alignments(s, t, delta, p, sigma)))\n",
    "\n",
    "delta, p, sigma = 1, -0.5, .3\n",
    "print('3: {}\\n   {}'.format(*affine_alignments(s, t, delta, p, sigma)))"
   ]
  }
 ],
 "metadata": {
  "kernelspec": {
   "display_name": "Python 3",
   "language": "python",
   "name": "python3"
  },
  "language_info": {
   "codemirror_mode": {
    "name": "ipython",
    "version": 3
   },
   "file_extension": ".py",
   "mimetype": "text/x-python",
   "name": "python",
   "nbconvert_exporter": "python",
   "pygments_lexer": "ipython3",
   "version": "3.7.3"
  }
 },
 "nbformat": 4,
 "nbformat_minor": 2
}
